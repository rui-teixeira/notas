{
 "cells": [
  {
   "cell_type": "code",
   "execution_count": 3,
   "metadata": {},
   "outputs": [],
   "source": [
    "from dataclasses import dataclass\n",
    "@dataclass\n",
    "class Exam:\n",
    "    score: int\n",
    "    questions: list"
   ]
  },
  {
   "cell_type": "code",
   "execution_count": 4,
   "metadata": {},
   "outputs": [],
   "source": [
    "# Tercile\n",
    "class Tercile:\n",
    "    def __str__(self):\n",
    "        return (f\"{self.name}: range:[{self.high}:{self.low}] size:{self.size}\")\n",
    "    def __init__(self, name, elems):\n",
    "        self.name = name\n",
    "        self.size = len(elems)\n",
    "        self.high = elems[0].score\n",
    "        self.low = elems[-1].score"
   ]
  }
 ],
 "metadata": {
  "kernelspec": {
   "display_name": "Python 3",
   "language": "python",
   "name": "python3"
  },
  "language_info": {
   "codemirror_mode": {
    "name": "ipython",
    "version": 3
   },
   "file_extension": ".py",
   "mimetype": "text/x-python",
   "name": "python",
   "nbconvert_exporter": "python",
   "pygments_lexer": "ipython3",
   "version": "3.10.12"
  }
 },
 "nbformat": 4,
 "nbformat_minor": 2
}
